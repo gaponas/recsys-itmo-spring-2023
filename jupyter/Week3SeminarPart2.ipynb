{
  "cells": [
    {
      "cell_type": "code",
      "source": [
        "!pip install lightfm\n",
        "!pip install optuna\n",
        "!pip install tensorboardX"
      ],
      "metadata": {
        "colab": {
          "base_uri": "https://localhost:8080/"
        },
        "id": "nfsy-BqlxBI2",
        "outputId": "22316d7f-c38c-4690-d414-fe9a32bd29e3"
      },
      "execution_count": null,
      "outputs": [
        {
          "output_type": "stream",
          "name": "stdout",
          "text": [
            "Looking in indexes: https://pypi.org/simple, https://us-python.pkg.dev/colab-wheels/public/simple/\n",
            "Requirement already satisfied: lightfm in /usr/local/lib/python3.9/dist-packages (1.17)\n",
            "Requirement already satisfied: scikit-learn in /usr/local/lib/python3.9/dist-packages (from lightfm) (1.2.2)\n",
            "Requirement already satisfied: numpy in /usr/local/lib/python3.9/dist-packages (from lightfm) (1.22.4)\n",
            "Requirement already satisfied: scipy>=0.17.0 in /usr/local/lib/python3.9/dist-packages (from lightfm) (1.10.1)\n",
            "Requirement already satisfied: requests in /usr/local/lib/python3.9/dist-packages (from lightfm) (2.27.1)\n",
            "Requirement already satisfied: idna<4,>=2.5 in /usr/local/lib/python3.9/dist-packages (from requests->lightfm) (3.4)\n",
            "Requirement already satisfied: certifi>=2017.4.17 in /usr/local/lib/python3.9/dist-packages (from requests->lightfm) (2022.12.7)\n",
            "Requirement already satisfied: urllib3<1.27,>=1.21.1 in /usr/local/lib/python3.9/dist-packages (from requests->lightfm) (1.26.15)\n",
            "Requirement already satisfied: charset-normalizer~=2.0.0 in /usr/local/lib/python3.9/dist-packages (from requests->lightfm) (2.0.12)\n",
            "Requirement already satisfied: threadpoolctl>=2.0.0 in /usr/local/lib/python3.9/dist-packages (from scikit-learn->lightfm) (3.1.0)\n",
            "Requirement already satisfied: joblib>=1.1.1 in /usr/local/lib/python3.9/dist-packages (from scikit-learn->lightfm) (1.2.0)\n",
            "Looking in indexes: https://pypi.org/simple, https://us-python.pkg.dev/colab-wheels/public/simple/\n",
            "Requirement already satisfied: optuna in /usr/local/lib/python3.9/dist-packages (3.1.1)\n",
            "Requirement already satisfied: numpy in /usr/local/lib/python3.9/dist-packages (from optuna) (1.22.4)\n",
            "Requirement already satisfied: cmaes>=0.9.1 in /usr/local/lib/python3.9/dist-packages (from optuna) (0.9.1)\n",
            "Requirement already satisfied: sqlalchemy>=1.3.0 in /usr/local/lib/python3.9/dist-packages (from optuna) (2.0.9)\n",
            "Requirement already satisfied: packaging>=20.0 in /usr/local/lib/python3.9/dist-packages (from optuna) (23.0)\n",
            "Requirement already satisfied: colorlog in /usr/local/lib/python3.9/dist-packages (from optuna) (6.7.0)\n",
            "Requirement already satisfied: tqdm in /usr/local/lib/python3.9/dist-packages (from optuna) (4.65.0)\n",
            "Requirement already satisfied: PyYAML in /usr/local/lib/python3.9/dist-packages (from optuna) (6.0)\n",
            "Requirement already satisfied: alembic>=1.5.0 in /usr/local/lib/python3.9/dist-packages (from optuna) (1.10.3)\n",
            "Requirement already satisfied: typing-extensions>=4 in /usr/local/lib/python3.9/dist-packages (from alembic>=1.5.0->optuna) (4.5.0)\n",
            "Requirement already satisfied: Mako in /usr/local/lib/python3.9/dist-packages (from alembic>=1.5.0->optuna) (1.2.4)\n",
            "Requirement already satisfied: greenlet!=0.4.17 in /usr/local/lib/python3.9/dist-packages (from sqlalchemy>=1.3.0->optuna) (2.0.2)\n",
            "Requirement already satisfied: MarkupSafe>=0.9.2 in /usr/local/lib/python3.9/dist-packages (from Mako->alembic>=1.5.0->optuna) (2.1.2)\n",
            "Looking in indexes: https://pypi.org/simple, https://us-python.pkg.dev/colab-wheels/public/simple/\n",
            "Requirement already satisfied: tensorboardX in /usr/local/lib/python3.9/dist-packages (2.6)\n",
            "Requirement already satisfied: numpy in /usr/local/lib/python3.9/dist-packages (from tensorboardX) (1.22.4)\n",
            "Requirement already satisfied: protobuf<4,>=3.8.0 in /usr/local/lib/python3.9/dist-packages (from tensorboardX) (3.20.3)\n",
            "Requirement already satisfied: packaging in /usr/local/lib/python3.9/dist-packages (from tensorboardX) (23.0)\n"
          ]
        }
      ]
    },
    {
      "cell_type": "code",
      "execution_count": null,
      "metadata": {
        "id": "JTACr7cXw9y2"
      },
      "outputs": [],
      "source": [
        "import pandas as pd\n",
        "import numpy as np\n",
        "import scipy.stats as ss\n",
        "\n",
        "import lightfm\n",
        "import lightfm.data as ld\n",
        "import lightfm.evaluation as lv\n",
        "\n",
        "import tqdm\n",
        "import json\n",
        "import optuna\n",
        "\n",
        "import tensorboardX as tb\n",
        "\n",
        "import matplotlib.pyplot as pl\n",
        "import seaborn as sns\n",
        "\n",
        "np.random.seed(31337)"
      ]
    },
    {
      "cell_type": "code",
      "source": [
        "from google.colab import drive\n",
        "drive.mount('/content/drive')"
      ],
      "metadata": {
        "colab": {
          "base_uri": "https://localhost:8080/"
        },
        "id": "2QuyRdsLypQ7",
        "outputId": "7f443b32-2e09-43bb-8583-c543d731db18"
      },
      "execution_count": null,
      "outputs": [
        {
          "output_type": "stream",
          "name": "stdout",
          "text": [
            "Drive already mounted at /content/drive; to attempt to forcibly remount, call drive.mount(\"/content/drive\", force_remount=True).\n"
          ]
        }
      ]
    },
    {
      "cell_type": "code",
      "execution_count": null,
      "metadata": {
        "id": "OqDblqzgw9y6"
      },
      "outputs": [],
      "source": [
        "DATA_DIR = \"/content/drive/MyDrive/rec/\""
      ]
    },
    {
      "cell_type": "code",
      "source": [
        "d1 = pd.read_json(DATA_DIR + \"rand1.json\", lines=True)\n",
        "d2 = pd.read_json(DATA_DIR + \"rand2.json\", lines=True)\n",
        "light1 = pd.read_json(DATA_DIR + \"light_huge1.json\", lines=True)\n",
        "light2 = pd.read_json(DATA_DIR + \"light_huge2.json\", lines=True)\n",
        "sticky = pd.read_json(DATA_DIR + \"sticky.json\", lines=True)\n",
        "context1 = pd.read_json(DATA_DIR + \"context_1.json\", lines=True)\n",
        "context2 = pd.read_json(DATA_DIR + \"context_2.json\", lines=True)"
      ],
      "metadata": {
        "id": "HXRjye4kxu_g"
      },
      "execution_count": null,
      "outputs": []
    },
    {
      "cell_type": "code",
      "execution_count": null,
      "metadata": {
        "id": "Bh7kQsHWw9y7",
        "colab": {
          "base_uri": "https://localhost:8080/"
        },
        "outputId": "82652bc8-25b7-4692-cc23-6e9342709722"
      },
      "outputs": [
        {
          "output_type": "stream",
          "name": "stdout",
          "text": [
            "(2607223, 8)\n",
            "(2023150, 8)\n"
          ]
        }
      ],
      "source": [
        "data = pd.concat([d1, d2, light1, light2, sticky, context1, context2], ignore_index=True, sort=False)\n",
        "print(data.shape)\n",
        "data = data.drop_duplicates(subset=[\"user\", \"track\"])\n",
        "print(data.shape)"
      ]
    },
    {
      "cell_type": "code",
      "execution_count": null,
      "metadata": {
        "id": "jxY9BZkPw9y7"
      },
      "outputs": [],
      "source": [
        "positives = data[data[\"time\"] > 0.7].copy()\n",
        "positives[\"test\"] = np.random.random(len(positives)) >= 0.7"
      ]
    },
    {
      "cell_type": "code",
      "execution_count": null,
      "metadata": {
        "id": "_LI5xCofw9y7"
      },
      "outputs": [],
      "source": [
        "user_counts = positives[~positives[\"test\"]].groupby(\"user\").size()\n",
        "users = set(user_counts[user_counts >= 5].index.values)"
      ]
    },
    {
      "cell_type": "code",
      "execution_count": null,
      "metadata": {
        "id": "zbzg7iE6w9y8"
      },
      "outputs": [],
      "source": [
        "track_counts = positives[~positives[\"test\"]].groupby(\"track\").size()\n",
        "tracks = set(track_counts[track_counts >= 5].index.values)"
      ]
    },
    {
      "cell_type": "markdown",
      "metadata": {
        "id": "ngqFNqPaw9y8"
      },
      "source": [
        "## Train LightFM"
      ]
    },
    {
      "cell_type": "code",
      "execution_count": null,
      "metadata": {
        "colab": {
          "base_uri": "https://localhost:8080/"
        },
        "id": "AUahfWWjw9y9",
        "outputId": "0ad0fc0d-75c5-4bfa-94d8-9d9fa2084cca"
      },
      "outputs": [
        {
          "output_type": "execute_result",
          "data": {
            "text/plain": [
              "(300977, 122649)"
            ]
          },
          "metadata": {},
          "execution_count": 43
        }
      ],
      "source": [
        "train_data = positives[~positives[\"test\"] & positives[\"user\"].isin(users) & positives[\"track\"].isin(tracks)]\n",
        "test_data = positives[positives[\"test\"] & positives[\"user\"].isin(users) & positives[\"track\"].isin(tracks)]\n",
        "\n",
        "len(train_data), len(test_data)"
      ]
    },
    {
      "cell_type": "code",
      "execution_count": null,
      "metadata": {
        "id": "x4i0HKFfw9y-"
      },
      "outputs": [],
      "source": [
        "dataset = ld.Dataset()\n",
        "dataset.fit(users, tracks)"
      ]
    },
    {
      "cell_type": "code",
      "execution_count": null,
      "metadata": {
        "id": "eNapPEDlw9y-"
      },
      "outputs": [],
      "source": [
        "train_interactions, _ = dataset.build_interactions(train_data[[\"user\", \"track\"]].itertuples(index=False, name=None))\n",
        "test_interactions, _ = dataset.build_interactions(test_data[[\"user\", \"track\"]].itertuples(index=False, name=None))"
      ]
    },
    {
      "cell_type": "code",
      "source": [
        "train_interactions.count_nonzero()/train_interactions.todense().size"
      ],
      "metadata": {
        "colab": {
          "base_uri": "https://localhost:8080/"
        },
        "id": "Q1s3Nr-_zPqh",
        "outputId": "03d96194-0dbd-4d61-abc9-58397b67d204"
      },
      "execution_count": null,
      "outputs": [
        {
          "output_type": "execute_result",
          "data": {
            "text/plain": [
              "0.002814201696532288"
            ]
          },
          "metadata": {},
          "execution_count": 46
        }
      ]
    },
    {
      "cell_type": "code",
      "execution_count": null,
      "metadata": {
        "id": "Q8gewBIgw9y-"
      },
      "outputs": [],
      "source": [
        "def fit_model(\n",
        "    epochs=1, \n",
        "    at=10,\n",
        "    loss=\"warp\",\n",
        "    no_components=30,\n",
        "    learning_rate=0.01, \n",
        "    max_sampled=10,\n",
        "    user_alpha=0.0, \n",
        "    item_alpha=0.0, \n",
        "    threads=30, \n",
        "    verbose=False,\n",
        "    patience=3,\n",
        "    epsilon=1e-6,\n",
        "):\n",
        "    model = lightfm.LightFM(\n",
        "        no_components=no_components,\n",
        "        loss=loss,\n",
        "        learning_rate=learning_rate,\n",
        "        max_sampled=max_sampled,\n",
        "        user_alpha=user_alpha,\n",
        "        item_alpha=item_alpha,\n",
        "    )\n",
        "\n",
        "    precisions_at = []\n",
        "    \n",
        "    for epoch in range(epochs):\n",
        "        model = model.fit_partial(train_interactions, num_threads=threads)\n",
        "        \n",
        "        precision_at = lv.precision_at_k(model, test_interactions, train_interactions=train_interactions, k=at, num_threads=threads)\n",
        "        \n",
        "        if verbose:\n",
        "            print(f\"{epoch}:\\t{np.mean(precision_at)} +/- {ss.sem(precision_at) * 1.96}\")\n",
        "            \n",
        "        precisions_at.append(np.mean(precision_at))\n",
        "            \n",
        "        if epoch > patience and all([precisions_at[-j] - precisions_at[-patience-1] < epsilon for j in range(1, patience + 1)]):\n",
        "            if verbose:\n",
        "                print(\"Early stopiing!\")\n",
        "            break\n",
        "        \n",
        "    else:\n",
        "        if verbose:\n",
        "            print(\"No early stopiing happened: increase epochs maybe?\")\n",
        "        \n",
        "    return model, precisions_at\n",
        "\n",
        "\n",
        "def objective(trial):\n",
        "    loss = trial.suggest_categorical(\"loss\", [\"warp\", \"bpr\"])\n",
        "    no_components = trial.suggest_categorical(\"no_components\", [10, 30, 50])\n",
        "    learning_rate = trial.suggest_categorical(\"learning_rate\", [0.0001, 0.001, 0.01])\n",
        "    max_sampled = trial.suggest_categorical(\"max_sampled\", [10, 20, 50, 100])\n",
        "    user_alpha = trial.suggest_categorical(\"user_alpha\", [0.0, 0.0001])\n",
        "    item_alpha = trial.suggest_categorical(\"item_alpha\", [0.0, 0.0001])\n",
        "    \n",
        "    model, precisions_at = fit_model(\n",
        "        epochs=5, \n",
        "        at=10,\n",
        "        loss=loss,\n",
        "        no_components=no_components, \n",
        "        learning_rate=learning_rate, \n",
        "        max_sampled=max_sampled, \n",
        "        user_alpha=user_alpha, \n",
        "        item_alpha=item_alpha,\n",
        "    )\n",
        "    \n",
        "    return precisions_at[-1]"
      ]
    },
    {
      "cell_type": "code",
      "execution_count": null,
      "metadata": {
        "colab": {
          "base_uri": "https://localhost:8080/"
        },
        "id": "vgUfTIJ5w9zA",
        "outputId": "1fefb810-eee2-4ea7-9a40-d4b80ffca4bc"
      },
      "outputs": [
        {
          "output_type": "stream",
          "name": "stderr",
          "text": [
            "\u001b[32m[I 2023-04-11 17:59:06,248]\u001b[0m A new study created in memory with name: no-name-c2f1d0ba-7a32-499e-80df-814f93113580\u001b[0m\n",
            "\u001b[32m[I 2023-04-11 18:00:43,275]\u001b[0m Trial 0 finished with value: 0.051987092941999435 and parameters: {'loss': 'warp', 'no_components': 50, 'learning_rate': 0.0001, 'max_sampled': 20, 'user_alpha': 0.0, 'item_alpha': 0.0001}. Best is trial 0 with value: 0.051987092941999435.\u001b[0m\n",
            "\u001b[32m[I 2023-04-11 18:01:21,873]\u001b[0m Trial 1 finished with value: 0.055446844547986984 and parameters: {'loss': 'warp', 'no_components': 10, 'learning_rate': 0.01, 'max_sampled': 50, 'user_alpha': 0.0001, 'item_alpha': 0.0001}. Best is trial 1 with value: 0.055446844547986984.\u001b[0m\n",
            "\u001b[32m[I 2023-04-11 18:03:01,675]\u001b[0m Trial 2 finished with value: 0.061670366674661636 and parameters: {'loss': 'warp', 'no_components': 50, 'learning_rate': 0.01, 'max_sampled': 20, 'user_alpha': 0.0001, 'item_alpha': 0.0001}. Best is trial 2 with value: 0.061670366674661636.\u001b[0m\n",
            "\u001b[32m[I 2023-04-11 18:03:40,463]\u001b[0m Trial 3 finished with value: 0.0017450072336941957 and parameters: {'loss': 'bpr', 'no_components': 10, 'learning_rate': 0.0001, 'max_sampled': 100, 'user_alpha': 0.0, 'item_alpha': 0.0001}. Best is trial 2 with value: 0.061670366674661636.\u001b[0m\n",
            "\u001b[32m[I 2023-04-11 18:04:50,826]\u001b[0m Trial 4 finished with value: 0.05089771747589111 and parameters: {'loss': 'bpr', 'no_components': 30, 'learning_rate': 0.01, 'max_sampled': 10, 'user_alpha': 0.0001, 'item_alpha': 0.0001}. Best is trial 2 with value: 0.061670366674661636.\u001b[0m\n",
            "\u001b[32m[I 2023-04-11 18:05:26,305]\u001b[0m Trial 5 finished with value: 0.05851321667432785 and parameters: {'loss': 'warp', 'no_components': 10, 'learning_rate': 0.01, 'max_sampled': 50, 'user_alpha': 0.0, 'item_alpha': 0.0}. Best is trial 2 with value: 0.061670366674661636.\u001b[0m\n",
            "\u001b[32m[I 2023-04-11 18:07:00,272]\u001b[0m Trial 6 finished with value: 0.05175509676337242 and parameters: {'loss': 'warp', 'no_components': 50, 'learning_rate': 0.001, 'max_sampled': 10, 'user_alpha': 0.0001, 'item_alpha': 0.0}. Best is trial 2 with value: 0.061670366674661636.\u001b[0m\n",
            "\u001b[32m[I 2023-04-11 18:08:08,087]\u001b[0m Trial 7 finished with value: 0.055113982409238815 and parameters: {'loss': 'warp', 'no_components': 30, 'learning_rate': 0.01, 'max_sampled': 100, 'user_alpha': 0.0001, 'item_alpha': 0.0001}. Best is trial 2 with value: 0.061670366674661636.\u001b[0m\n",
            "\u001b[32m[I 2023-04-11 18:08:46,312]\u001b[0m Trial 8 finished with value: 0.04968731477856636 and parameters: {'loss': 'bpr', 'no_components': 10, 'learning_rate': 0.01, 'max_sampled': 100, 'user_alpha': 0.0, 'item_alpha': 0.0001}. Best is trial 2 with value: 0.061670366674661636.\u001b[0m\n",
            "\u001b[32m[I 2023-04-11 18:09:22,349]\u001b[0m Trial 9 finished with value: 0.05635464936494827 and parameters: {'loss': 'warp', 'no_components': 10, 'learning_rate': 0.01, 'max_sampled': 100, 'user_alpha': 0.0, 'item_alpha': 0.0001}. Best is trial 2 with value: 0.061670366674661636.\u001b[0m\n",
            "\u001b[32m[I 2023-04-11 18:11:00,572]\u001b[0m Trial 10 finished with value: 0.04899132624268532 and parameters: {'loss': 'bpr', 'no_components': 50, 'learning_rate': 0.001, 'max_sampled': 20, 'user_alpha': 0.0001, 'item_alpha': 0.0}. Best is trial 2 with value: 0.061670366674661636.\u001b[0m\n",
            "\u001b[32m[I 2023-04-11 18:12:36,145]\u001b[0m Trial 11 finished with value: 0.05884607881307602 and parameters: {'loss': 'warp', 'no_components': 50, 'learning_rate': 0.01, 'max_sampled': 50, 'user_alpha': 0.0, 'item_alpha': 0.0}. Best is trial 2 with value: 0.061670366674661636.\u001b[0m\n",
            "\u001b[32m[I 2023-04-11 18:14:10,841]\u001b[0m Trial 12 finished with value: 0.07356264442205429 and parameters: {'loss': 'warp', 'no_components': 50, 'learning_rate': 0.01, 'max_sampled': 20, 'user_alpha': 0.0, 'item_alpha': 0.0}. Best is trial 12 with value: 0.07356264442205429.\u001b[0m\n",
            "\u001b[32m[I 2023-04-11 18:15:45,279]\u001b[0m Trial 13 finished with value: 0.055335890501737595 and parameters: {'loss': 'warp', 'no_components': 50, 'learning_rate': 0.01, 'max_sampled': 20, 'user_alpha': 0.0001, 'item_alpha': 0.0}. Best is trial 12 with value: 0.07356264442205429.\u001b[0m\n",
            "\u001b[32m[I 2023-04-11 18:17:19,781]\u001b[0m Trial 14 finished with value: 0.052118223160505295 and parameters: {'loss': 'warp', 'no_components': 50, 'learning_rate': 0.001, 'max_sampled': 20, 'user_alpha': 0.0001, 'item_alpha': 0.0}. Best is trial 12 with value: 0.07356264442205429.\u001b[0m\n",
            "\u001b[32m[I 2023-04-11 18:18:55,039]\u001b[0m Trial 15 finished with value: 0.051109544932842255 and parameters: {'loss': 'warp', 'no_components': 50, 'learning_rate': 0.0001, 'max_sampled': 20, 'user_alpha': 0.0, 'item_alpha': 0.0}. Best is trial 12 with value: 0.07356264442205429.\u001b[0m\n",
            "\u001b[32m[I 2023-04-11 18:20:29,627]\u001b[0m Trial 16 finished with value: 0.05644543468952179 and parameters: {'loss': 'warp', 'no_components': 50, 'learning_rate': 0.01, 'max_sampled': 20, 'user_alpha': 0.0, 'item_alpha': 0.0001}. Best is trial 12 with value: 0.07356264442205429.\u001b[0m\n",
            "\u001b[32m[I 2023-04-11 18:21:34,559]\u001b[0m Trial 17 finished with value: 0.05836191773414612 and parameters: {'loss': 'warp', 'no_components': 30, 'learning_rate': 0.01, 'max_sampled': 20, 'user_alpha': 0.0001, 'item_alpha': 0.0}. Best is trial 12 with value: 0.07356264442205429.\u001b[0m\n",
            "\u001b[32m[I 2023-04-11 18:23:10,868]\u001b[0m Trial 18 finished with value: 0.049082111567258835 and parameters: {'loss': 'bpr', 'no_components': 50, 'learning_rate': 0.001, 'max_sampled': 20, 'user_alpha': 0.0, 'item_alpha': 0.0}. Best is trial 12 with value: 0.07356264442205429.\u001b[0m\n",
            "\u001b[32m[I 2023-04-11 18:24:44,888]\u001b[0m Trial 19 finished with value: 0.051613882184028625 and parameters: {'loss': 'warp', 'no_components': 50, 'learning_rate': 0.0001, 'max_sampled': 10, 'user_alpha': 0.0001, 'item_alpha': 0.0001}. Best is trial 12 with value: 0.07356264442205429.\u001b[0m\n",
            "\u001b[32m[I 2023-04-11 18:25:51,929]\u001b[0m Trial 20 finished with value: 0.052430909126996994 and parameters: {'loss': 'warp', 'no_components': 30, 'learning_rate': 0.01, 'max_sampled': 20, 'user_alpha': 0.0001, 'item_alpha': 0.0001}. Best is trial 12 with value: 0.07356264442205429.\u001b[0m\n",
            "\u001b[32m[I 2023-04-11 18:27:27,251]\u001b[0m Trial 21 finished with value: 0.06199314445257187 and parameters: {'loss': 'warp', 'no_components': 50, 'learning_rate': 0.01, 'max_sampled': 50, 'user_alpha': 0.0, 'item_alpha': 0.0}. Best is trial 12 with value: 0.07356264442205429.\u001b[0m\n",
            "\u001b[32m[I 2023-04-11 18:29:02,477]\u001b[0m Trial 22 finished with value: 0.06866048276424408 and parameters: {'loss': 'warp', 'no_components': 50, 'learning_rate': 0.01, 'max_sampled': 50, 'user_alpha': 0.0, 'item_alpha': 0.0}. Best is trial 12 with value: 0.07356264442205429.\u001b[0m\n",
            "\u001b[32m[I 2023-04-11 18:30:37,969]\u001b[0m Trial 23 finished with value: 0.07346177101135254 and parameters: {'loss': 'warp', 'no_components': 50, 'learning_rate': 0.01, 'max_sampled': 50, 'user_alpha': 0.0, 'item_alpha': 0.0}. Best is trial 12 with value: 0.07356264442205429.\u001b[0m\n",
            "\u001b[32m[I 2023-04-11 18:32:14,468]\u001b[0m Trial 24 finished with value: 0.06517046689987183 and parameters: {'loss': 'warp', 'no_components': 50, 'learning_rate': 0.01, 'max_sampled': 50, 'user_alpha': 0.0, 'item_alpha': 0.0}. Best is trial 12 with value: 0.07356264442205429.\u001b[0m\n",
            "\u001b[32m[I 2023-04-11 18:33:50,560]\u001b[0m Trial 25 finished with value: 0.0625983402132988 and parameters: {'loss': 'warp', 'no_components': 50, 'learning_rate': 0.01, 'max_sampled': 50, 'user_alpha': 0.0, 'item_alpha': 0.0}. Best is trial 12 with value: 0.07356264442205429.\u001b[0m\n",
            "\u001b[32m[I 2023-04-11 18:35:27,106]\u001b[0m Trial 26 finished with value: 0.050030265003442764 and parameters: {'loss': 'bpr', 'no_components': 50, 'learning_rate': 0.01, 'max_sampled': 50, 'user_alpha': 0.0, 'item_alpha': 0.0}. Best is trial 12 with value: 0.07356264442205429.\u001b[0m\n",
            "\u001b[32m[I 2023-04-11 18:37:02,402]\u001b[0m Trial 27 finished with value: 0.07039540261030197 and parameters: {'loss': 'warp', 'no_components': 50, 'learning_rate': 0.01, 'max_sampled': 50, 'user_alpha': 0.0, 'item_alpha': 0.0}. Best is trial 12 with value: 0.07356264442205429.\u001b[0m\n",
            "\u001b[32m[I 2023-04-11 18:38:08,917]\u001b[0m Trial 28 finished with value: 0.051795441657304764 and parameters: {'loss': 'warp', 'no_components': 30, 'learning_rate': 0.001, 'max_sampled': 50, 'user_alpha': 0.0, 'item_alpha': 0.0}. Best is trial 12 with value: 0.07356264442205429.\u001b[0m\n",
            "\u001b[32m[I 2023-04-11 18:39:43,598]\u001b[0m Trial 29 finished with value: 0.051351629197597504 and parameters: {'loss': 'warp', 'no_components': 50, 'learning_rate': 0.0001, 'max_sampled': 50, 'user_alpha': 0.0, 'item_alpha': 0.0}. Best is trial 12 with value: 0.07356264442205429.\u001b[0m\n"
          ]
        }
      ],
      "source": [
        "study = optuna.create_study(direction=\"maximize\")\n",
        "study.optimize(objective, n_trials=30)\n",
        "best_params = study.best_params"
      ]
    },
    {
      "cell_type": "code",
      "execution_count": null,
      "metadata": {
        "colab": {
          "base_uri": "https://localhost:8080/"
        },
        "id": "dGZgP-Xnw9zA",
        "outputId": "77e43dd4-1c0f-4513-f602-646579d7faea"
      },
      "outputs": [
        {
          "output_type": "execute_result",
          "data": {
            "text/plain": [
              "{'loss': 'warp',\n",
              " 'no_components': 50,\n",
              " 'learning_rate': 0.01,\n",
              " 'max_sampled': 20,\n",
              " 'user_alpha': 0.0,\n",
              " 'item_alpha': 0.0}"
            ]
          },
          "metadata": {},
          "execution_count": 49
        }
      ],
      "source": [
        "best_params"
      ]
    },
    {
      "cell_type": "code",
      "execution_count": null,
      "metadata": {
        "tags": [],
        "id": "6YycVcRpw9zA",
        "outputId": "1f2d54a4-1a63-4418-d474-b1b24ed7abea",
        "colab": {
          "base_uri": "https://localhost:8080/"
        }
      },
      "outputs": [
        {
          "output_type": "stream",
          "name": "stdout",
          "text": [
            "0:\t0.05276377126574516 +/- 0.002135354925598033\n",
            "1:\t0.054458342492580414 +/- 0.002185640670202124\n",
            "2:\t0.05607222393155098 +/- 0.002211876551448395\n",
            "3:\t0.06049021705985069 +/- 0.0023467960208916534\n",
            "4:\t0.0624571330845356 +/- 0.0024200449997669794\n",
            "5:\t0.06402058154344559 +/- 0.002481212874883471\n",
            "6:\t0.0682973638176918 +/- 0.002624008755241282\n",
            "7:\t0.07114182412624359 +/- 0.0027137025138388848\n",
            "8:\t0.07285656780004501 +/- 0.0027695360946500508\n",
            "9:\t0.07479321211576462 +/- 0.0027993336964210486\n",
            "10:\t0.07659874856472015 +/- 0.002848199886034041\n",
            "11:\t0.07773855328559875 +/- 0.0028701152103547236\n",
            "12:\t0.07870688289403915 +/- 0.002887076538550876\n",
            "13:\t0.07989711314439774 +/- 0.00290023723155338\n",
            "14:\t0.08043171465396881 +/- 0.0029077769033151726\n",
            "15:\t0.08157151937484741 +/- 0.0029211848708000604\n",
            "16:\t0.0819649025797844 +/- 0.0029128244706851125\n",
            "17:\t0.0826507955789566 +/- 0.002918995186326757\n",
            "18:\t0.0837603434920311 +/- 0.002940937790038735\n",
            "19:\t0.08385112136602402 +/- 0.0029377408213750334\n",
            "20:\t0.08442606776952744 +/- 0.0029380787338349457\n",
            "21:\t0.08464796841144562 +/- 0.002941721852543375\n",
            "22:\t0.08468832075595856 +/- 0.002941139012215384\n",
            "23:\t0.08485979586839676 +/- 0.0029406192371468384\n",
            "24:\t0.08540447801351547 +/- 0.0029456700311114477\n",
            "25:\t0.08581803739070892 +/- 0.002949568637452328\n",
            "26:\t0.08628202974796295 +/- 0.002956374698917037\n",
            "27:\t0.08656445890665054 +/- 0.0029667754801701355\n",
            "28:\t0.08704861998558044 +/- 0.002976422118250982\n",
            "29:\t0.08738148212432861 +/- 0.0029825514748155024\n",
            "30:\t0.08762356638908386 +/- 0.0029879199416916434\n",
            "31:\t0.08750252425670624 +/- 0.0029857616431846687\n",
            "32:\t0.08759330213069916 +/- 0.002978764919307683\n",
            "33:\t0.08779504150152206 +/- 0.0029873426745726265\n",
            "34:\t0.0882892832159996 +/- 0.0029930109214262248\n",
            "35:\t0.08819851279258728 +/- 0.0029917625226159933\n",
            "36:\t0.08819851279258728 +/- 0.002987316861815272\n",
            "37:\t0.0884607657790184 +/- 0.00299281204586388\n",
            "38:\t0.08867258578538895 +/- 0.0029989314293176043\n",
            "39:\t0.0888037160038948 +/- 0.003000490461196453\n",
            "40:\t0.08876337110996246 +/- 0.0029969124610349862\n",
            "41:\t0.08889448642730713 +/- 0.002997688603716347\n",
            "42:\t0.0887431874871254 +/- 0.002995186819540486\n",
            "43:\t0.08859189599752426 +/- 0.0029849640876477754\n",
            "44:\t0.08872302621603012 +/- 0.0029819472216319784\n",
            "Early stopiing!\n"
          ]
        }
      ],
      "source": [
        "model, precisions_at = fit_model(\n",
        "    epochs=200,\n",
        "    at=10,\n",
        "    loss=best_params[\"loss\"],\n",
        "    no_components=best_params[\"no_components\"], \n",
        "    learning_rate=best_params[\"learning_rate\"], \n",
        "    max_sampled=best_params[\"max_sampled\"],\n",
        "    user_alpha=best_params[\"user_alpha\"],\n",
        "    item_alpha=best_params[\"item_alpha\"],\n",
        "    verbose=True,\n",
        ")"
      ]
    },
    {
      "cell_type": "code",
      "execution_count": null,
      "metadata": {
        "id": "YWHTxr3kw9zB",
        "outputId": "99e048f0-7efc-434e-e288-8b5ef2e8982a",
        "colab": {
          "base_uri": "https://localhost:8080/",
          "height": 430
        }
      },
      "outputs": [
        {
          "output_type": "display_data",
          "data": {
            "text/plain": [
              "<Figure size 640x480 with 1 Axes>"
            ],
            "image/png": "[encoded data removed]"
          },
          "metadata": {}
        }
      ],
      "source": [
        "figure, ax = pl.subplots()\n",
        "\n",
        "ax.plot(np.arange(len(precisions_at)), precisions_at)\n",
        "\n",
        "pass"
      ]
    },
    {
      "cell_type": "markdown",
      "metadata": {
        "id": "5K2X85DQw9zB"
      },
      "source": [
        "## Save track embeddings"
      ]
    },
    {
      "cell_type": "code",
      "execution_count": null,
      "metadata": {
        "id": "R27bZh0kw9zB"
      },
      "outputs": [],
      "source": [
        "biases, embeddings = model.get_item_representations()"
      ]
    },
    {
      "cell_type": "code",
      "execution_count": null,
      "metadata": {
        "id": "laZctKGlw9zC"
      },
      "outputs": [],
      "source": [
        "model.item_biases *= 0.0"
      ]
    },
    {
      "cell_type": "code",
      "execution_count": null,
      "metadata": {
        "id": "3KORR9Pnw9zC"
      },
      "outputs": [],
      "source": [
        "track_meta = pd.read_json(DATA_DIR + \"tracks.json\", lines=True)\n",
        "track_meta[\"dataset_index\"] = track_meta[\"track\"].map(lambda t: dataset.mapping()[2].get(t))"
      ]
    },
    {
      "cell_type": "code",
      "execution_count": null,
      "metadata": {
        "id": "VgRfUAjzw9zC"
      },
      "outputs": [],
      "source": [
        "dataset_tracks = track_meta[pd.notnull(track_meta[\"dataset_index\"])].sort_values(\"dataset_index\")"
      ]
    },
    {
      "cell_type": "code",
      "execution_count": null,
      "metadata": {
        "id": "llT1wiPyw9zD"
      },
      "outputs": [],
      "source": [
        "writer = tb.SummaryWriter(comment='msd_ligtfm_embeddings', log_dir=DATA_DIR + \"tb\")\n",
        "writer.add_embedding(embeddings, metadata=list(dataset_tracks[[\"artist\", \"title\"]].itertuples(index=False, name=None)), tag=\"lightfm\", metadata_header=[\"artist\", \"title\"])\n",
        "writer.close()"
      ]
    },
    {
      "cell_type": "markdown",
      "metadata": {
        "id": "WNfXMLEgw9zD"
      },
      "source": [
        "## Compute top recommendations"
      ]
    },
    {
      "cell_type": "code",
      "execution_count": null,
      "metadata": {
        "id": "dgnBdlJ2w9zD"
      },
      "outputs": [],
      "source": [
        "tracks = dataset_tracks[\"track\"].values\n",
        "users = [user for user, index in sorted(dataset.mapping()[0].items(), key=lambda kv: kv[1])]"
      ]
    },
    {
      "cell_type": "code",
      "execution_count": null,
      "metadata": {
        "id": "CSTv6ZxBw9zE",
        "outputId": "91f3bd13-78ef-4d56-f44f-71531ed9c5c4",
        "colab": {
          "base_uri": "https://localhost:8080/"
        }
      },
      "outputs": [
        {
          "output_type": "stream",
          "name": "stderr",
          "text": [
            "100%|██████████| 9985/9985 [00:55<00:00, 181.50it/s]\n"
          ]
        }
      ],
      "source": [
        "with open(DATA_DIR + \"recommendations.json\", \"w\") as rf:\n",
        "    for user_index in tqdm.tqdm(range(dataset.user_features_shape()[0])):\n",
        "        predictions = model.predict(user_index, np.arange(dataset.item_features_shape()[0]), num_threads=30)\n",
        "        top = tracks[np.argsort(predictions)[-100:]]\n",
        "        recommendation = {\n",
        "            \"user\": int(users[user_index]),\n",
        "            \"tracks\": [int(x) for x in top]\n",
        "        }\n",
        "        rf.write(json.dumps(recommendation) + \"\\n\")"
      ]
    },
    {
      "cell_type": "code",
      "execution_count": null,
      "metadata": {
        "id": "BdrCbu7dw9zE"
      },
      "outputs": [],
      "source": []
    }
  ],
  "metadata": {
    "kernelspec": {
      "display_name": "Python 3 (ipykernel)",
      "language": "python",
      "name": "python3"
    },
    "language_info": {
      "codemirror_mode": {
        "name": "ipython",
        "version": 3
      },
      "file_extension": ".py",
      "mimetype": "text/x-python",
      "name": "python",
      "nbconvert_exporter": "python",
      "pygments_lexer": "ipython3",
      "version": "3.8.0"
    },
    "colab": {
      "provenance": []
    }
  },
  "nbformat": 4,
  "nbformat_minor": 0
}